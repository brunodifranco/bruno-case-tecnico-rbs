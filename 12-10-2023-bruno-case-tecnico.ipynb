{
 "cells": [
  {
   "cell_type": "markdown",
   "metadata": {},
   "source": [
    "# **Análise de Dados e Visualização para Tomada de Decisões em Publicidade**\n",
    "\n",
    "### **Teste Técnico - Analista de Dados Jr - RBS**\n",
    "\n",
    "#### Bruno Di Franco Albuquerque"
   ]
  },
  {
   "cell_type": "markdown",
   "metadata": {},
   "source": [
    "## **Descrição do Teste:**\n",
    "\n",
    "Neste teste, os candidatos deverão realizar uma análise de dados simples relacionada a campanhas publicitárias e criar visualizações claras para ajudar na tomada de decisões de negócios. Eles terão acesso a um conjunto de dados fictício que contém informações sobre campanhas publicitárias e desempenho das mesmas. "
   ]
  },
  {
   "cell_type": "markdown",
   "metadata": {},
   "source": [
    "Vamos começar importando as bibliotecas necessárias para a análise:"
   ]
  },
  {
   "cell_type": "code",
   "execution_count": 1,
   "metadata": {},
   "outputs": [],
   "source": [
    "import pandas as pd"
   ]
  },
  {
   "cell_type": "markdown",
   "metadata": {},
   "source": [
    "Agora podemos ler os dados e visualizar uma amostra dos mesmos:"
   ]
  },
  {
   "cell_type": "code",
   "execution_count": 2,
   "metadata": {},
   "outputs": [
    {
     "data": {
      "text/html": [
       "<div>\n",
       "<style scoped>\n",
       "    .dataframe tbody tr th:only-of-type {\n",
       "        vertical-align: middle;\n",
       "    }\n",
       "\n",
       "    .dataframe tbody tr th {\n",
       "        vertical-align: top;\n",
       "    }\n",
       "\n",
       "    .dataframe thead th {\n",
       "        text-align: right;\n",
       "    }\n",
       "</style>\n",
       "<table border=\"1\" class=\"dataframe\">\n",
       "  <thead>\n",
       "    <tr style=\"text-align: right;\">\n",
       "      <th></th>\n",
       "      <th>advertiserName</th>\n",
       "      <th>date</th>\n",
       "      <th>creativeType</th>\n",
       "      <th>deviceCategoryName</th>\n",
       "      <th>totalLineItemLevelImpressions</th>\n",
       "      <th>totalLineItemLevelClicks</th>\n",
       "      <th>totalLineItemLevelCtr</th>\n",
       "      <th>clickThroughConversions</th>\n",
       "      <th>viewThroughConversions</th>\n",
       "    </tr>\n",
       "  </thead>\n",
       "  <tbody>\n",
       "    <tr>\n",
       "      <th>777</th>\n",
       "      <td>Cliente 1</td>\n",
       "      <td>12/06/2023</td>\n",
       "      <td>Other</td>\n",
       "      <td>Desktop</td>\n",
       "      <td>5908</td>\n",
       "      <td>42</td>\n",
       "      <td>0,00711</td>\n",
       "      <td>41</td>\n",
       "      <td>401</td>\n",
       "    </tr>\n",
       "    <tr>\n",
       "      <th>692</th>\n",
       "      <td>Cliente 1</td>\n",
       "      <td>10/06/2023</td>\n",
       "      <td>DoubleClick Rich Media</td>\n",
       "      <td>Smartphone</td>\n",
       "      <td>7121</td>\n",
       "      <td>106</td>\n",
       "      <td>0,01489</td>\n",
       "      <td>85</td>\n",
       "      <td>314</td>\n",
       "    </tr>\n",
       "    <tr>\n",
       "      <th>6007</th>\n",
       "      <td>Cliente 1</td>\n",
       "      <td>18/08/2023</td>\n",
       "      <td>Other</td>\n",
       "      <td>SmartTV</td>\n",
       "      <td>39842</td>\n",
       "      <td>127</td>\n",
       "      <td>0,00319</td>\n",
       "      <td>29</td>\n",
       "      <td>237</td>\n",
       "    </tr>\n",
       "    <tr>\n",
       "      <th>1511</th>\n",
       "      <td>Cliente 1</td>\n",
       "      <td>21/06/2023</td>\n",
       "      <td>Video creative sets</td>\n",
       "      <td>SmartTV</td>\n",
       "      <td>21807</td>\n",
       "      <td>319</td>\n",
       "      <td>0,01463</td>\n",
       "      <td>75</td>\n",
       "      <td>184</td>\n",
       "    </tr>\n",
       "    <tr>\n",
       "      <th>653</th>\n",
       "      <td>Cliente 1</td>\n",
       "      <td>10/06/2023</td>\n",
       "      <td>Other</td>\n",
       "      <td>Tablet</td>\n",
       "      <td>29478</td>\n",
       "      <td>487</td>\n",
       "      <td>0,01652</td>\n",
       "      <td>197</td>\n",
       "      <td>323</td>\n",
       "    </tr>\n",
       "  </tbody>\n",
       "</table>\n",
       "</div>"
      ],
      "text/plain": [
       "     advertiserName        date            creativeType deviceCategoryName  \\\n",
       "777       Cliente 1  12/06/2023                   Other            Desktop   \n",
       "692       Cliente 1  10/06/2023  DoubleClick Rich Media         Smartphone   \n",
       "6007      Cliente 1  18/08/2023                   Other            SmartTV   \n",
       "1511      Cliente 1  21/06/2023     Video creative sets            SmartTV   \n",
       "653       Cliente 1  10/06/2023                   Other             Tablet   \n",
       "\n",
       "      totalLineItemLevelImpressions  totalLineItemLevelClicks  \\\n",
       "777                            5908                        42   \n",
       "692                            7121                       106   \n",
       "6007                          39842                       127   \n",
       "1511                          21807                       319   \n",
       "653                           29478                       487   \n",
       "\n",
       "     totalLineItemLevelCtr  clickThroughConversions  viewThroughConversions  \n",
       "777                0,00711                       41                     401  \n",
       "692                0,01489                       85                     314  \n",
       "6007               0,00319                       29                     237  \n",
       "1511               0,01463                       75                     184  \n",
       "653                0,01652                      197                     323  "
      ]
     },
     "execution_count": 2,
     "metadata": {},
     "output_type": "execute_result"
    }
   ],
   "source": [
    "df = pd.read_csv(\"Base de dados - Case Analista Jr - RBS Performance.csv\", sep=\";\")\n",
    "df.sample(5)"
   ]
  },
  {
   "cell_type": "markdown",
   "metadata": {},
   "source": [
    "## **Tarefas:**"
   ]
  },
  {
   "cell_type": "markdown",
   "metadata": {},
   "source": [
    "### 1. **Exploração de Dados**"
   ]
  },
  {
   "cell_type": "markdown",
   "metadata": {},
   "source": [
    "#### 1.1. **Examinar a estrutura do conjunto de dados (quantidade de linhas e colunas)**"
   ]
  },
  {
   "cell_type": "code",
   "execution_count": 3,
   "metadata": {},
   "outputs": [
    {
     "name": "stdout",
     "output_type": "stream",
     "text": [
      "A base de dados possui 7000 linhas e 9 colunas.\n"
     ]
    }
   ],
   "source": [
    "qtd_linhas = df.shape[0]\n",
    "qtd_colunas = df.shape[1]\n",
    "\n",
    "print(f\"A base de dados possui {qtd_linhas} linhas e {qtd_colunas} colunas.\")"
   ]
  },
  {
   "cell_type": "markdown",
   "metadata": {},
   "source": [
    "#### 1.2. **Identificar as principais variáveis presentes**"
   ]
  },
  {
   "cell_type": "code",
   "execution_count": 4,
   "metadata": {},
   "outputs": [
    {
     "data": {
      "text/plain": [
       "advertiserName                   object\n",
       "date                             object\n",
       "creativeType                     object\n",
       "deviceCategoryName               object\n",
       "totalLineItemLevelImpressions     int64\n",
       "totalLineItemLevelClicks          int64\n",
       "totalLineItemLevelCtr            object\n",
       "clickThroughConversions           int64\n",
       "viewThroughConversions            int64\n",
       "dtype: object"
      ]
     },
     "execution_count": 4,
     "metadata": {},
     "output_type": "execute_result"
    }
   ],
   "source": [
    "df.dtypes"
   ]
  },
  {
   "cell_type": "markdown",
   "metadata": {},
   "source": [
    "Ao analisar os tipos de cada variável, identificam-se duas variáveis que podem ser convertidas para tipos mais apropriados em relação ao seu significado:\n",
    "\n",
    "- `date`, que é a data, porém está como `object`.\n",
    "- `totalLineItemLevelCtr`, que é a Taxa de Cliques (click through rate), está como `object`, mas deveria ser um `float`."
   ]
  },
  {
   "cell_type": "code",
   "execution_count": 5,
   "metadata": {},
   "outputs": [],
   "source": [
    "df[\"date\"] = pd.to_datetime(df[\"date\"], format=\"%d/%m/%Y\")\n",
    "df[\"totalLineItemLevelCtr\"] = df[\"totalLineItemLevelCtr\"].str.replace(\",\", \".\").astype(float)"
   ]
  },
  {
   "cell_type": "markdown",
   "metadata": {},
   "source": [
    "Agora o tipo e formato dessas duas variáveis estão mais apropriados."
   ]
  },
  {
   "cell_type": "code",
   "execution_count": 11,
   "metadata": {},
   "outputs": [
    {
     "name": "stdout",
     "output_type": "stream",
     "text": [
      "date                     datetime64[ns]\n",
      "totalLineItemLevelCtr           float64\n",
      "dtype: object\n"
     ]
    },
    {
     "data": {
      "text/html": [
       "<div>\n",
       "<style scoped>\n",
       "    .dataframe tbody tr th:only-of-type {\n",
       "        vertical-align: middle;\n",
       "    }\n",
       "\n",
       "    .dataframe tbody tr th {\n",
       "        vertical-align: top;\n",
       "    }\n",
       "\n",
       "    .dataframe thead th {\n",
       "        text-align: right;\n",
       "    }\n",
       "</style>\n",
       "<table border=\"1\" class=\"dataframe\">\n",
       "  <thead>\n",
       "    <tr style=\"text-align: right;\">\n",
       "      <th></th>\n",
       "      <th>date</th>\n",
       "      <th>totalLineItemLevelCtr</th>\n",
       "    </tr>\n",
       "  </thead>\n",
       "  <tbody>\n",
       "    <tr>\n",
       "      <th>1290</th>\n",
       "      <td>2023-06-19</td>\n",
       "      <td>0.00593</td>\n",
       "    </tr>\n",
       "    <tr>\n",
       "      <th>3043</th>\n",
       "      <td>2023-07-11</td>\n",
       "      <td>0.01245</td>\n",
       "    </tr>\n",
       "    <tr>\n",
       "      <th>2396</th>\n",
       "      <td>2023-07-03</td>\n",
       "      <td>0.00563</td>\n",
       "    </tr>\n",
       "    <tr>\n",
       "      <th>4957</th>\n",
       "      <td>2023-08-04</td>\n",
       "      <td>0.03083</td>\n",
       "    </tr>\n",
       "    <tr>\n",
       "      <th>1005</th>\n",
       "      <td>2023-06-15</td>\n",
       "      <td>0.01654</td>\n",
       "    </tr>\n",
       "  </tbody>\n",
       "</table>\n",
       "</div>"
      ],
      "text/plain": [
       "           date  totalLineItemLevelCtr\n",
       "1290 2023-06-19                0.00593\n",
       "3043 2023-07-11                0.01245\n",
       "2396 2023-07-03                0.00563\n",
       "4957 2023-08-04                0.03083\n",
       "1005 2023-06-15                0.01654"
      ]
     },
     "execution_count": 11,
     "metadata": {},
     "output_type": "execute_result"
    }
   ],
   "source": [
    "print(df[[\"date\", \"totalLineItemLevelCtr\"]].dtypes)\n",
    "df[[\"date\", \"totalLineItemLevelCtr\"]].sample(5)"
   ]
  },
  {
   "cell_type": "markdown",
   "metadata": {},
   "source": [
    "Agora podemos seguir para a análise das \"principais variáveis presentes\":"
   ]
  },
  {
   "cell_type": "markdown",
   "metadata": {},
   "source": [
    "As variáveis presentes podem ser classificadas em 3 grupos:\n",
    "\n",
    "Primeiro grupo:\n",
    "\n",
    "- Esse primeiro grupo representa as variáveis categóricas presentes na base de dados.\n",
    "\n",
    "| **Nome da Variável** | **Significado** | **Tipo da Variável** |\n",
    "|----------------------|-----------------|----------------------|\n",
    "|  advertiserName        |   Nome do Cliente              |    objeto, string                  |\n",
    "| creativeType                     | Tipo do Criativo                | objeto, string          |\n",
    "|   deviceCategoryName       |  Categoria do dispositivo                  |  objeto, string    |\n",
    "\n",
    "Segundo grupo:\n",
    "\n",
    "- No segundo grupo temos apenas uma variável, que é a data, sendo, portanto, uma variável temporal, que pode ser muito útil para visualizações de séries temporais.\n",
    "\n",
    "| **Nome da Variável** | **Significado** | **Tipo da Variável** |\n",
    "|----------------------|-----------------|----------------------|\n",
    "|  date        |   Data de exibição do anúncio              |    datetime, variável temporal                |\n",
    "\n",
    "Terceiro grupo:\n",
    "\n",
    "- Esse último grupo representa as variáveis numéricas, podendo ser encaradas como KPI's para publicidade, como indicadores de conversão, taxa de cliques, etc. **Portanto, se tivermos que elencar as \"principais variáveis presentes\" seriam exatamente as desse terceiro grupo.**\n",
    "\n",
    "| **Nome da Variável** | **Significado** | **Tipo da Variável** |\n",
    "|----------------------|-----------------|----------------------|\n",
    "|  totalLineItemLevelImpressions         |    Impressões totais             |    numérica, integer              |\n",
    "| totalLineItemLevelClicks               | Cliques totais             | numérica, integer        |\n",
    "|   totalLineItemLevelCTR                |  Taxa de Cliques (click through rate)      |  numérica, float    |\n",
    "| clickThroughConversions                | Conversões diretas (oriundas de clique)        | numérica, integer        |\n",
    "|   viewThroughConversions               |  Conversões indiretas (não relacionadas ao último clique)    |  numérica, integer   |"
   ]
  },
  {
   "cell_type": "markdown",
   "metadata": {},
   "source": [
    "### 2. **Análise Descritiva**"
   ]
  },
  {
   "cell_type": "markdown",
   "metadata": {},
   "source": [
    "#### 2.1. **Qual é a média de conversões por tipo de criativo?**"
   ]
  },
  {
   "cell_type": "code",
   "execution_count": 12,
   "metadata": {},
   "outputs": [],
   "source": [
    "df_aux = df[[\"creativeType\",\"clickThroughConversions\", \"viewThroughConversions\"]]"
   ]
  },
  {
   "cell_type": "code",
   "execution_count": 13,
   "metadata": {},
   "outputs": [
    {
     "data": {
      "text/html": [
       "<div>\n",
       "<style scoped>\n",
       "    .dataframe tbody tr th:only-of-type {\n",
       "        vertical-align: middle;\n",
       "    }\n",
       "\n",
       "    .dataframe tbody tr th {\n",
       "        vertical-align: top;\n",
       "    }\n",
       "\n",
       "    .dataframe thead th {\n",
       "        text-align: right;\n",
       "    }\n",
       "</style>\n",
       "<table border=\"1\" class=\"dataframe\">\n",
       "  <thead>\n",
       "    <tr style=\"text-align: right;\">\n",
       "      <th></th>\n",
       "      <th>creativeType</th>\n",
       "      <th>clickThroughConversions</th>\n",
       "      <th>viewThroughConversions</th>\n",
       "    </tr>\n",
       "  </thead>\n",
       "  <tbody>\n",
       "    <tr>\n",
       "      <th>0</th>\n",
       "      <td>Custom</td>\n",
       "      <td>204</td>\n",
       "      <td>369</td>\n",
       "    </tr>\n",
       "    <tr>\n",
       "      <th>1</th>\n",
       "      <td>Custom template</td>\n",
       "      <td>21</td>\n",
       "      <td>368</td>\n",
       "    </tr>\n",
       "    <tr>\n",
       "      <th>2</th>\n",
       "      <td>Programmatic</td>\n",
       "      <td>97</td>\n",
       "      <td>327</td>\n",
       "    </tr>\n",
       "    <tr>\n",
       "      <th>3</th>\n",
       "      <td>DoubleClick Rich Media</td>\n",
       "      <td>22</td>\n",
       "      <td>256</td>\n",
       "    </tr>\n",
       "    <tr>\n",
       "      <th>4</th>\n",
       "      <td>Video creative sets</td>\n",
       "      <td>325</td>\n",
       "      <td>63</td>\n",
       "    </tr>\n",
       "    <tr>\n",
       "      <th>...</th>\n",
       "      <td>...</td>\n",
       "      <td>...</td>\n",
       "      <td>...</td>\n",
       "    </tr>\n",
       "    <tr>\n",
       "      <th>6995</th>\n",
       "      <td>Custom</td>\n",
       "      <td>41</td>\n",
       "      <td>165</td>\n",
       "    </tr>\n",
       "    <tr>\n",
       "      <th>6996</th>\n",
       "      <td>Third-party</td>\n",
       "      <td>195</td>\n",
       "      <td>143</td>\n",
       "    </tr>\n",
       "    <tr>\n",
       "      <th>6997</th>\n",
       "      <td>Third-party</td>\n",
       "      <td>58</td>\n",
       "      <td>323</td>\n",
       "    </tr>\n",
       "    <tr>\n",
       "      <th>6998</th>\n",
       "      <td>Video creative sets</td>\n",
       "      <td>122</td>\n",
       "      <td>6</td>\n",
       "    </tr>\n",
       "    <tr>\n",
       "      <th>6999</th>\n",
       "      <td>Custom</td>\n",
       "      <td>148</td>\n",
       "      <td>416</td>\n",
       "    </tr>\n",
       "  </tbody>\n",
       "</table>\n",
       "<p>7000 rows × 3 columns</p>\n",
       "</div>"
      ],
      "text/plain": [
       "                creativeType  clickThroughConversions  viewThroughConversions\n",
       "0                     Custom                      204                     369\n",
       "1            Custom template                       21                     368\n",
       "2               Programmatic                       97                     327\n",
       "3     DoubleClick Rich Media                       22                     256\n",
       "4        Video creative sets                      325                      63\n",
       "...                      ...                      ...                     ...\n",
       "6995                  Custom                       41                     165\n",
       "6996             Third-party                      195                     143\n",
       "6997             Third-party                       58                     323\n",
       "6998     Video creative sets                      122                       6\n",
       "6999                  Custom                      148                     416\n",
       "\n",
       "[7000 rows x 3 columns]"
      ]
     },
     "execution_count": 13,
     "metadata": {},
     "output_type": "execute_result"
    }
   ],
   "source": [
    "df_aux"
   ]
  },
  {
   "cell_type": "code",
   "execution_count": 16,
   "metadata": {},
   "outputs": [
    {
     "data": {
      "text/html": [
       "<div>\n",
       "<style scoped>\n",
       "    .dataframe tbody tr th:only-of-type {\n",
       "        vertical-align: middle;\n",
       "    }\n",
       "\n",
       "    .dataframe tbody tr th {\n",
       "        vertical-align: top;\n",
       "    }\n",
       "\n",
       "    .dataframe thead th {\n",
       "        text-align: right;\n",
       "    }\n",
       "</style>\n",
       "<table border=\"1\" class=\"dataframe\">\n",
       "  <thead>\n",
       "    <tr style=\"text-align: right;\">\n",
       "      <th></th>\n",
       "      <th>advertiserName</th>\n",
       "      <th>date</th>\n",
       "      <th>creativeType</th>\n",
       "      <th>deviceCategoryName</th>\n",
       "      <th>totalLineItemLevelImpressions</th>\n",
       "      <th>totalLineItemLevelClicks</th>\n",
       "      <th>totalLineItemLevelCtr</th>\n",
       "      <th>clickThroughConversions</th>\n",
       "      <th>viewThroughConversions</th>\n",
       "    </tr>\n",
       "  </thead>\n",
       "  <tbody>\n",
       "    <tr>\n",
       "      <th>0</th>\n",
       "      <td>Cliente 1</td>\n",
       "      <td>02/06/2023</td>\n",
       "      <td>Custom</td>\n",
       "      <td>SmartTV</td>\n",
       "      <td>11983</td>\n",
       "      <td>349</td>\n",
       "      <td>0,02912</td>\n",
       "      <td>204</td>\n",
       "      <td>369</td>\n",
       "    </tr>\n",
       "    <tr>\n",
       "      <th>1</th>\n",
       "      <td>Cliente 1</td>\n",
       "      <td>02/06/2023</td>\n",
       "      <td>Custom template</td>\n",
       "      <td>Smartphone</td>\n",
       "      <td>12507</td>\n",
       "      <td>112</td>\n",
       "      <td>0,00895</td>\n",
       "      <td>21</td>\n",
       "      <td>368</td>\n",
       "    </tr>\n",
       "    <tr>\n",
       "      <th>2</th>\n",
       "      <td>Cliente 1</td>\n",
       "      <td>02/06/2023</td>\n",
       "      <td>Programmatic</td>\n",
       "      <td>Tablet</td>\n",
       "      <td>29909</td>\n",
       "      <td>488</td>\n",
       "      <td>0,01632</td>\n",
       "      <td>97</td>\n",
       "      <td>327</td>\n",
       "    </tr>\n",
       "    <tr>\n",
       "      <th>3</th>\n",
       "      <td>Cliente 1</td>\n",
       "      <td>02/06/2023</td>\n",
       "      <td>DoubleClick Rich Media</td>\n",
       "      <td>SmartTV</td>\n",
       "      <td>39189</td>\n",
       "      <td>172</td>\n",
       "      <td>0,00439</td>\n",
       "      <td>22</td>\n",
       "      <td>256</td>\n",
       "    </tr>\n",
       "    <tr>\n",
       "      <th>4</th>\n",
       "      <td>Cliente 1</td>\n",
       "      <td>02/06/2023</td>\n",
       "      <td>Video creative sets</td>\n",
       "      <td>Desktop</td>\n",
       "      <td>41458</td>\n",
       "      <td>362</td>\n",
       "      <td>0,00873</td>\n",
       "      <td>325</td>\n",
       "      <td>63</td>\n",
       "    </tr>\n",
       "    <tr>\n",
       "      <th>...</th>\n",
       "      <td>...</td>\n",
       "      <td>...</td>\n",
       "      <td>...</td>\n",
       "      <td>...</td>\n",
       "      <td>...</td>\n",
       "      <td>...</td>\n",
       "      <td>...</td>\n",
       "      <td>...</td>\n",
       "      <td>...</td>\n",
       "    </tr>\n",
       "    <tr>\n",
       "      <th>6995</th>\n",
       "      <td>Cliente 1</td>\n",
       "      <td>30/08/2023</td>\n",
       "      <td>Custom</td>\n",
       "      <td>Desktop</td>\n",
       "      <td>41794</td>\n",
       "      <td>113</td>\n",
       "      <td>0,00270</td>\n",
       "      <td>41</td>\n",
       "      <td>165</td>\n",
       "    </tr>\n",
       "    <tr>\n",
       "      <th>6996</th>\n",
       "      <td>Cliente 1</td>\n",
       "      <td>30/08/2023</td>\n",
       "      <td>Third-party</td>\n",
       "      <td>Desktop</td>\n",
       "      <td>2633</td>\n",
       "      <td>459</td>\n",
       "      <td>0,17433</td>\n",
       "      <td>195</td>\n",
       "      <td>143</td>\n",
       "    </tr>\n",
       "    <tr>\n",
       "      <th>6997</th>\n",
       "      <td>Cliente 1</td>\n",
       "      <td>30/08/2023</td>\n",
       "      <td>Third-party</td>\n",
       "      <td>SmartTV</td>\n",
       "      <td>34281</td>\n",
       "      <td>241</td>\n",
       "      <td>0,00703</td>\n",
       "      <td>58</td>\n",
       "      <td>323</td>\n",
       "    </tr>\n",
       "    <tr>\n",
       "      <th>6998</th>\n",
       "      <td>Cliente 1</td>\n",
       "      <td>30/08/2023</td>\n",
       "      <td>Video creative sets</td>\n",
       "      <td>SmartTV</td>\n",
       "      <td>35835</td>\n",
       "      <td>463</td>\n",
       "      <td>0,01292</td>\n",
       "      <td>122</td>\n",
       "      <td>6</td>\n",
       "    </tr>\n",
       "    <tr>\n",
       "      <th>6999</th>\n",
       "      <td>Cliente 1</td>\n",
       "      <td>30/08/2023</td>\n",
       "      <td>Custom</td>\n",
       "      <td>Smartphone</td>\n",
       "      <td>40303</td>\n",
       "      <td>299</td>\n",
       "      <td>0,00742</td>\n",
       "      <td>148</td>\n",
       "      <td>416</td>\n",
       "    </tr>\n",
       "  </tbody>\n",
       "</table>\n",
       "<p>7000 rows × 9 columns</p>\n",
       "</div>"
      ],
      "text/plain": [
       "     advertiserName        date            creativeType deviceCategoryName  \\\n",
       "0         Cliente 1  02/06/2023                  Custom            SmartTV   \n",
       "1         Cliente 1  02/06/2023         Custom template         Smartphone   \n",
       "2         Cliente 1  02/06/2023            Programmatic             Tablet   \n",
       "3         Cliente 1  02/06/2023  DoubleClick Rich Media            SmartTV   \n",
       "4         Cliente 1  02/06/2023     Video creative sets            Desktop   \n",
       "...             ...         ...                     ...                ...   \n",
       "6995      Cliente 1  30/08/2023                  Custom            Desktop   \n",
       "6996      Cliente 1  30/08/2023             Third-party            Desktop   \n",
       "6997      Cliente 1  30/08/2023             Third-party            SmartTV   \n",
       "6998      Cliente 1  30/08/2023     Video creative sets            SmartTV   \n",
       "6999      Cliente 1  30/08/2023                  Custom         Smartphone   \n",
       "\n",
       "      totalLineItemLevelImpressions  totalLineItemLevelClicks  \\\n",
       "0                             11983                       349   \n",
       "1                             12507                       112   \n",
       "2                             29909                       488   \n",
       "3                             39189                       172   \n",
       "4                             41458                       362   \n",
       "...                             ...                       ...   \n",
       "6995                          41794                       113   \n",
       "6996                           2633                       459   \n",
       "6997                          34281                       241   \n",
       "6998                          35835                       463   \n",
       "6999                          40303                       299   \n",
       "\n",
       "     totalLineItemLevelCtr  clickThroughConversions  viewThroughConversions  \n",
       "0                  0,02912                      204                     369  \n",
       "1                  0,00895                       21                     368  \n",
       "2                  0,01632                       97                     327  \n",
       "3                  0,00439                       22                     256  \n",
       "4                  0,00873                      325                      63  \n",
       "...                    ...                      ...                     ...  \n",
       "6995               0,00270                       41                     165  \n",
       "6996               0,17433                      195                     143  \n",
       "6997               0,00703                       58                     323  \n",
       "6998               0,01292                      122                       6  \n",
       "6999               0,00742                      148                     416  \n",
       "\n",
       "[7000 rows x 9 columns]"
      ]
     },
     "execution_count": 16,
     "metadata": {},
     "output_type": "execute_result"
    }
   ],
   "source": [
    "df"
   ]
  },
  {
   "cell_type": "markdown",
   "metadata": {},
   "source": []
  },
  {
   "cell_type": "markdown",
   "metadata": {},
   "source": []
  },
  {
   "cell_type": "markdown",
   "metadata": {},
   "source": []
  },
  {
   "cell_type": "markdown",
   "metadata": {},
   "source": []
  },
  {
   "cell_type": "markdown",
   "metadata": {},
   "source": []
  }
 ],
 "metadata": {
  "kernelspec": {
   "display_name": "Python 3",
   "language": "python",
   "name": "python3"
  },
  "language_info": {
   "codemirror_mode": {
    "name": "ipython",
    "version": 3
   },
   "file_extension": ".py",
   "mimetype": "text/x-python",
   "name": "python",
   "nbconvert_exporter": "python",
   "pygments_lexer": "ipython3",
   "version": "3.10.12"
  }
 },
 "nbformat": 4,
 "nbformat_minor": 2
}
